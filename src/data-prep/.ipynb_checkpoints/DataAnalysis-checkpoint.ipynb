{
 "cells": [
  {
   "cell_type": "code",
   "execution_count": 1,
   "metadata": {},
   "outputs": [],
   "source": [
    "import os\n",
    "import cv2\n",
    "from PIL import Image\n",
    "import json\n",
    "import shutil"
   ]
  },
  {
   "cell_type": "code",
   "execution_count": 1,
   "metadata": {},
   "outputs": [],
   "source": [
    "inputPath = r\"../../../headsegmentation_dataset_ccncsa/samples/\"\n",
    "labelsPath = r\"../../../headsegmentation_dataset_ccncsa/labels\"\n",
    "outputPath = r\"../../../headsegmentation_dataset_ccncsa/samplesArranged\""
   ]
  },
  {
   "cell_type": "code",
   "execution_count": 22,
   "metadata": {},
   "outputs": [],
   "source": [
    "labelsDist = sorted(os.listdir(labelsPath))"
   ]
  },
  {
   "cell_type": "code",
   "execution_count": 23,
   "metadata": {},
   "outputs": [
    {
     "name": "stdout",
     "output_type": "stream",
     "text": [
      "['female03', 'female10', 'female23', 'femalealison1', 'femalealison2', 'femalebarbera', 'femalebarbera2', 'femalecarla', 'femalecarla2', 'femalefelice', 'femalejoyce', 'femalejoyce2', 'femalelaura', 'femalelaura2', 'femaleroberta', 'male01', 'male06_1', 'male06_2', 'male09', 'male23', 'maleandrew', 'maleandrew2', 'malebruce', 'malebruce2', 'malecarlos', 'malecarlos2', 'malecorry', 'malecorry2', 'maleelias', 'maleelias2', 'malegaberial', 'malegaberial2', 'malekumar', 'maleshawn', 'multiperson', 'real']\n"
     ]
    }
   ],
   "source": [
    "print(labelsDist)"
   ]
  },
  {
   "cell_type": "code",
   "execution_count": 24,
   "metadata": {},
   "outputs": [],
   "source": [
    "for folder in labelsDist:\n",
    "    os.mkdir(os.path.join(outputPath, folder))"
   ]
  },
  {
   "cell_type": "markdown",
   "metadata": {},
   "source": [
    "### Explore and Organize Dataset"
   ]
  },
  {
   "cell_type": "code",
   "execution_count": 46,
   "metadata": {},
   "outputs": [],
   "source": [
    "folderTypes = {\"female\": [], \"male\": [], \"multiperson\": [], \"real\": []}\n",
    "\n",
    "for folder in os.listdir(inputPath):\n",
    "    if folder.startswith(\"female\"):\n",
    "        folderTypes[\"female\"].append(folder.split(\"_\")[0])\n",
    "        if os.path.isdir(os.path.join(outputPath, folderTypes[\"female\"][-1])):\n",
    "            for file in os.listdir(os.path.join(inputPath, folder)):\n",
    "                shutil.copy(os.path.join(inputPath, folder, file), os.path.join(outputPath, folderTypes[\"female\"][-1], file))\n",
    "    \n",
    "    elif folder.startswith(\"multiperson\"):\n",
    "        folderTypes[\"multiperson\"].append(folder.split(\"_\")[0])\n",
    "        if os.path.isdir(os.path.join(outputPath, folderTypes[\"multiperson\"][-1])):\n",
    "            for file in os.listdir(os.path.join(inputPath, folder)):\n",
    "                shutil.copy(os.path.join(inputPath, folder, file), os.path.join(outputPath, folderTypes[\"multiperson\"][-1], file))\n",
    "    \n",
    "    elif folder.startswith(\"male\"):\n",
    "        \n",
    "        folderTypes[\"male\"].append(folder.split(\"_\")[0])\n",
    "        if folder.startswith(\"male06\") and \"nolight\" in folder:\n",
    "            outFolder = \"male06_2\"\n",
    "        \n",
    "        elif folder.startswith(\"male06\"):\n",
    "            outFolder = \"male06_1\"\n",
    "        \n",
    "        else:\n",
    "            outFolder = folderTypes[\"male\"][-1]\n",
    "        if os.path.isdir(os.path.join(outputPath, outFolder)):\n",
    "            for file in os.listdir(os.path.join(inputPath, folder)):\n",
    "                shutil.copy(os.path.join(inputPath, folder, file), os.path.join(outputPath, outFolder, file))\n",
    "\n",
    "    else:\n",
    "        if folder.startswith(\"real\") and os.path.isdir(os.path.join(outputPath, \"real\")):\n",
    "            for file in os.listdir(os.path.join(inputPath, folder)):\n",
    "                shutil.copy(os.path.join(inputPath, folder, file), os.path.join(outputPath, \"real\", file))\n"
   ]
  },
  {
   "cell_type": "code",
   "execution_count": 49,
   "metadata": {},
   "outputs": [
    {
     "name": "stdout",
     "output_type": "stream",
     "text": [
      "female23 501 334\n",
      "femalealison1 501 167\n",
      "femalealison2 501 167\n",
      "femalebarbera 501 334\n",
      "femalecarla 501 334\n",
      "femalefelice 501 251\n",
      "femalejoyce 501 334\n",
      "femalelaura 501 334\n",
      "male06_1 351 284\n",
      "male06_2 501 393\n",
      "male09 351 117\n",
      "male23 501 167\n",
      "maleandrew 501 334\n",
      "malebruce 501 334\n",
      "malecarlos 501 334\n",
      "malecarlos2 501 251\n",
      "malecorry 501 334\n",
      "maleelias 501 333\n",
      "malegaberial 501 334\n",
      "maleshawn 501 334\n",
      "real 2505 2500\n"
     ]
    }
   ],
   "source": [
    "for folder in labelsDist:\n",
    "    if len(os.listdir(os.path.join(labelsPath, folder))) != len(os.listdir(os.path.join(outputPath, folder))):\n",
    "        print(folder, len(os.listdir(os.path.join(labelsPath, folder))), len(os.listdir(os.path.join(outputPath, folder))))"
   ]
  },
  {
   "cell_type": "code",
   "execution_count": null,
   "metadata": {
    "scrolled": false
   },
   "outputs": [],
   "source": [
    "import matplotlib.pyplot as plt\n",
    "\n",
    "allSamples = []\n",
    "_id = 0\n",
    "for folder in os.listdir(outputPath):\n",
    "    for file in os.listdir(os.path.join(outputPath, folder)):\n",
    "        if file in os.listdir(os.path.join(labelsPath, folder)):\n",
    "            image = Image.open(os.path.join(outputPath, folder, file))\n",
    "            mask = Image.open(os.path.join(labelsPath, folder, file))\n",
    "            \n",
    "            try:\n",
    "                assert image.size == mask.size\n",
    "                allSamples.append({\"id\": _id, \"folder\": folder, \"Filename\": file, \"size\": image.size})\n",
    "                _id += 1\n",
    "            except AssertionError:\n",
    "                print(folder, file, image.size, mask.size)\n",
    "    \n",
    "#     f, axarr = plt.subplots(2,2)\n",
    "#     axarr[0,0].imshow(image)\n",
    "#     axarr[0,1].imshow(mask)\n",
    "#     plt.show()"
   ]
  },
  {
   "cell_type": "code",
   "execution_count": 62,
   "metadata": {},
   "outputs": [],
   "source": [
    "import pandas as pd\n",
    "\n",
    "dataSamples = pd.DataFrame(allSamples, columns=allSamples[0].keys())\n",
    "dataSamples.to_csv(\"FinalSamples.csv\", index=False)"
   ]
  },
  {
   "cell_type": "markdown",
   "metadata": {},
   "source": [
    "### Move to dataset folder"
   ]
  },
  {
   "cell_type": "code",
   "execution_count": 67,
   "metadata": {},
   "outputs": [],
   "source": [
    "finalPath = r\"../../faceSegmentation/dataset/\"\n",
    "\n",
    "for row, sample in dataSamples.iterrows():\n",
    "    imagePath = os.path.join(outputPath, sample[\"folder\"], sample[\"Filename\"])\n",
    "    maskPath = os.path.join(labelsPath, sample[\"folder\"], sample[\"Filename\"])\n",
    "    \n",
    "    shutil.copy(imagePath, os.path.join(finalPath, \"images\", sample[\"folder\"] + \"_\" + sample[\"Filename\"]))\n",
    "    shutil.copy(maskPath, os.path.join(finalPath, \"masks\", sample[\"folder\"] + \"_\" + sample[\"Filename\"]))\n",
    "    "
   ]
  },
  {
   "cell_type": "markdown",
   "metadata": {},
   "source": [
    "### Remove near duplicate images"
   ]
  },
  {
   "cell_type": "code",
   "execution_count": 3,
   "metadata": {},
   "outputs": [],
   "source": [
    "from imutils import paths\n",
    "import numpy as np\n",
    "import argparse\n",
    "import cv2\n",
    "import os"
   ]
  },
  {
   "cell_type": "code",
   "execution_count": 4,
   "metadata": {},
   "outputs": [],
   "source": [
    "def dhash(image, hashSize=8):\n",
    "    # convert the image to grayscale and resize the grayscale image,\n",
    "    # adding a single column (width) so we can compute the horizontal\n",
    "    # gradient\n",
    "    gray = cv2.cvtColor(image, cv2.COLOR_BGR2GRAY)\n",
    "    resized = cv2.resize(gray, (hashSize + 1, hashSize))\n",
    "    # compute the (relative) horizontal gradient between adjacent\n",
    "    # column pixels\n",
    "    diff = resized[:, 1:] > resized[:, :-1]\n",
    "    # convert the difference image to a hash and return it\n",
    "    return sum([2 ** i for (i, v) in enumerate(diff.flatten()) if v])"
   ]
  },
  {
   "cell_type": "code",
   "execution_count": 5,
   "metadata": {},
   "outputs": [
    {
     "name": "stdout",
     "output_type": "stream",
     "text": [
      "[INFO] computing image hashes...\n"
     ]
    }
   ],
   "source": [
    "print(\"[INFO] computing image hashes...\")\n",
    "imagePaths = list(paths.list_images(\"../../dataset/images\"))\n",
    "hashes = {}\n",
    "# loop over our image paths\n",
    "for imagePath in imagePaths:\n",
    "    # load the input image and compute the hash\n",
    "    image = cv2.imread(imagePath)\n",
    "    h = dhash(image)\n",
    "    # grab all image paths with that hash, add the current image\n",
    "    # path to it, and store the list back in the hashes dictionary\n",
    "    p = hashes.get(h, [])\n",
    "    p.append(imagePath)\n",
    "    hashes[h] = p"
   ]
  },
  {
   "cell_type": "code",
   "execution_count": 6,
   "metadata": {},
   "outputs": [],
   "source": [
    "remove = True\n",
    "\n",
    "# loop over the image hashes\n",
    "for (h, hashedPaths) in hashes.items():\n",
    "    # check to see if there is more than one image with the same hash\n",
    "    if len(hashedPaths) > 1:\n",
    "        # check to see if this is a dry run\n",
    "        if not remove:\n",
    "            # initialize a montage to store all images with the same\n",
    "            # hash\n",
    "            montage = None\n",
    "            # loop over all image paths with the same hash\n",
    "            for p in hashedPaths:\n",
    "                # load the input image and resize it to a fixed width\n",
    "                # and heightG\n",
    "                image = cv2.imread(p)\n",
    "                image = cv2.resize(image, (150, 150))\n",
    "                # if our montage is None, initialize it\n",
    "                if montage is None:\n",
    "                    montage = image\n",
    "                # otherwise, horizontally stack the images\n",
    "                else:\n",
    "                    montage = np.hstack([montage, image])\n",
    "            # show the montage for the hash\n",
    "            print(\"[INFO] hash: {}\".format(h))\n",
    "            cv2.imshow(\"Montage\", montage)\n",
    "            cv2.waitKey(0)\n",
    "        # otherwise, we'll be removing the duplicate images\n",
    "        else:\n",
    "            # loop over all image paths with the same hash *except*\n",
    "            # for the first image in the list (since we want to keep\n",
    "            # one, and only one, of the duplicate images)\n",
    "            for p in hashedPaths[1:]:\n",
    "                os.remove(p)\n",
    "                os.remove(p.replace(\"/images/\", \"/masks/\"))"
   ]
  },
  {
   "cell_type": "code",
   "execution_count": 7,
   "metadata": {},
   "outputs": [
    {
     "name": "stdout",
     "output_type": "stream",
     "text": [
      "14464\n"
     ]
    }
   ],
   "source": [
    "print(len(os.listdir(os.path.join(\"../../dataset/images\"))))"
   ]
  },
  {
   "cell_type": "code",
   "execution_count": 27,
   "metadata": {},
   "outputs": [],
   "source": [
    "allFilesPath = r\"../../faceSegmentation/dataset/\"\n",
    "\n",
    "subSamplesPath = r\"../../dataset/subsamples/\""
   ]
  },
  {
   "cell_type": "markdown",
   "metadata": {},
   "source": [
    "### Create sub sample of datset for training"
   ]
  },
  {
   "cell_type": "code",
   "execution_count": 12,
   "metadata": {},
   "outputs": [],
   "source": [
    "oldFolders = {}\n",
    "\n",
    "for imageFile, maskFile in zip(os.listdir(os.path.join(allFilesPath, \"images\")), os.listdir(os.path.join(allFilesPath, \"masks\"))):\n",
    "    if imageFile == maskFile:\n",
    "        try:\n",
    "            if oldFolders.get(imageFile.split(\"_\")[0]):\n",
    "                oldFolders[imageFile.split(\"_\")[0]] += 1\n",
    "            else:\n",
    "                oldFolders[imageFile.split(\"_\")[0]] = 1\n",
    "        except:\n",
    "            oldFolders[imageFile.split(\"_\")[0]] = 1\n",
    "            \n",
    "    else:\n",
    "        print(imageFile)"
   ]
  },
  {
   "cell_type": "code",
   "execution_count": 13,
   "metadata": {},
   "outputs": [
    {
     "data": {
      "text/plain": [
       "{'femalelaura': 334,\n",
       " 'malecarlos': 334,\n",
       " 'malecorry2': 501,\n",
       " 'malebruce': 334,\n",
       " 'femalecarla': 334,\n",
       " 'femalebarbera': 334,\n",
       " 'female03': 501,\n",
       " 'malecorry': 334,\n",
       " 'femalejoyce2': 501,\n",
       " 'femalecarla2': 501,\n",
       " 'maleelias2': 501,\n",
       " 'malebruce2': 501,\n",
       " 'maleandrew': 334,\n",
       " 'malecarlos2': 251,\n",
       " 'male01': 501,\n",
       " 'femaleroberta': 501,\n",
       " 'maleelias': 333,\n",
       " 'multiperson': 501,\n",
       " 'malegaberial2': 250,\n",
       " 'femalebarbera2': 501,\n",
       " 'male06': 608,\n",
       " 'real': 1723,\n",
       " 'malegaberial': 334,\n",
       " 'maleshawn': 334,\n",
       " 'femalelaura2': 501,\n",
       " 'malekumar': 501,\n",
       " 'femalejoyce': 334,\n",
       " 'female23': 334,\n",
       " 'femalefelice': 251,\n",
       " 'female10': 501,\n",
       " 'femalealison2': 167,\n",
       " 'maleandrew2': 251,\n",
       " 'femalealison1': 167,\n",
       " 'male23': 167,\n",
       " 'male09': 109}"
      ]
     },
     "execution_count": 13,
     "metadata": {},
     "output_type": "execute_result"
    }
   ],
   "source": [
    "oldFolders"
   ]
  },
  {
   "cell_type": "markdown",
   "metadata": {},
   "source": [
    "### Add all files from multiperson and Real images, 10 files from other types"
   ]
  },
  {
   "cell_type": "code",
   "execution_count": 39,
   "metadata": {},
   "outputs": [],
   "source": [
    "import random\n",
    "\n",
    "addedFiles = {k: 0 for k in oldFolders.keys()}\n",
    "\n",
    "allImages = os.listdir(os.path.join(allFilesPath, \"images\"))\n",
    "random.shuffle(allImages)\n",
    "\n",
    "for image in allImages:\n",
    "    if image.split(\"_\")[0] == \"real\" or (image.split(\"_\")[0] == \"multiperson\" and addedFiles[image.split(\"_\")[0]]<50) or addedFiles[image.split(\"_\")[0]]<10:\n",
    "        addedFiles[image.split(\"_\")[0]] += 1\n",
    "        shutil.copy(os.path.join(allFilesPath, \"images\", image), os.path.join(subSamplesPath, \"images\", image))\n",
    "        shutil.copy(os.path.join(allFilesPath, \"masks\", image), os.path.join(subSamplesPath, \"masks\", image))"
   ]
  },
  {
   "cell_type": "code",
   "execution_count": 40,
   "metadata": {},
   "outputs": [
    {
     "data": {
      "text/plain": [
       "{'femalelaura': 10,\n",
       " 'malecarlos': 10,\n",
       " 'malecorry2': 10,\n",
       " 'malebruce': 10,\n",
       " 'femalecarla': 10,\n",
       " 'femalebarbera': 10,\n",
       " 'female03': 10,\n",
       " 'malecorry': 10,\n",
       " 'femalejoyce2': 10,\n",
       " 'femalecarla2': 10,\n",
       " 'maleelias2': 10,\n",
       " 'malebruce2': 10,\n",
       " 'maleandrew': 10,\n",
       " 'malecarlos2': 10,\n",
       " 'male01': 10,\n",
       " 'femaleroberta': 10,\n",
       " 'maleelias': 10,\n",
       " 'multiperson': 50,\n",
       " 'malegaberial2': 10,\n",
       " 'femalebarbera2': 10,\n",
       " 'male06': 10,\n",
       " 'real': 1723,\n",
       " 'malegaberial': 10,\n",
       " 'maleshawn': 10,\n",
       " 'femalelaura2': 10,\n",
       " 'malekumar': 10,\n",
       " 'femalejoyce': 10,\n",
       " 'female23': 10,\n",
       " 'femalefelice': 10,\n",
       " 'female10': 10,\n",
       " 'femalealison2': 10,\n",
       " 'maleandrew2': 10,\n",
       " 'femalealison1': 10,\n",
       " 'male23': 10,\n",
       " 'male09': 10}"
      ]
     },
     "execution_count": 40,
     "metadata": {},
     "output_type": "execute_result"
    }
   ],
   "source": [
    "addedFiles"
   ]
  },
  {
   "cell_type": "code",
   "execution_count": 43,
   "metadata": {},
   "outputs": [
    {
     "name": "stdout",
     "output_type": "stream",
     "text": [
      "NEW DISTRIBUTION OF SAMPLES:  2103\n",
      "{'real': 1723, 'femalecarla2': 10, 'femalecarla': 10, 'male06': 10, 'maleelias': 10, 'multiperson': 50, 'malegaberial2': 10, 'maleandrew': 10, 'malecarlos': 10, 'female03': 10, 'femalebarbera2': 10, 'femalebarbera': 10, 'malekumar': 10, 'malecorry2': 10, 'male23': 10, 'malegaberial': 10, 'femalelaura': 10, 'maleshawn': 10, 'female10': 10, 'male09': 10, 'femalefelice': 10, 'malecorry': 10, 'malecarlos2': 10, 'femalejoyce': 10, 'femalejoyce2': 10, 'malebruce2': 10, 'femalealison1': 10, 'femaleroberta': 10, 'femalelaura2': 10, 'female23': 10, 'male01': 10, 'femalealison2': 10, 'maleandrew2': 10, 'malebruce': 10, 'maleelias2': 10}\n"
     ]
    }
   ],
   "source": [
    "newFolders = {}\n",
    "\n",
    "for imageFile, maskFile in zip(os.listdir(os.path.join(subSamplesPath, \"images\")), os.listdir(os.path.join(subSamplesPath, \"masks\"))):\n",
    "    if imageFile == maskFile:\n",
    "        try:\n",
    "            if newFolders.get(imageFile.split(\"_\")[0]):\n",
    "                newFolders[imageFile.split(\"_\")[0]] += 1\n",
    "            else:\n",
    "                newFolders[imageFile.split(\"_\")[0]] = 1\n",
    "        except:\n",
    "            newFolders[imageFile.split(\"_\")[0]] = 1\n",
    "            \n",
    "    else:\n",
    "        print(imageFile)\n",
    "\n",
    "        \n",
    "print(\"NEW DISTRIBUTION OF SAMPLES: \", len(os.listdir(os.path.join(subSamplesPath, \"images\"))))\n",
    "print(newFolders)"
   ]
  },
  {
   "cell_type": "code",
   "execution_count": null,
   "metadata": {},
   "outputs": [],
   "source": []
  }
 ],
 "metadata": {
  "kernelspec": {
   "display_name": "Python 3",
   "language": "python",
   "name": "python3"
  },
  "language_info": {
   "codemirror_mode": {
    "name": "ipython",
    "version": 3
   },
   "file_extension": ".py",
   "mimetype": "text/x-python",
   "name": "python",
   "nbconvert_exporter": "python",
   "pygments_lexer": "ipython3",
   "version": "3.6.12"
  }
 },
 "nbformat": 4,
 "nbformat_minor": 2
}
